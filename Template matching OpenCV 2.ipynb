{
 "cells": [
  {
   "cell_type": "code",
   "execution_count": 3,
   "metadata": {},
   "outputs": [],
   "source": [
    "import cv2\n",
    "import numpy as np"
   ]
  },
  {
   "cell_type": "code",
   "execution_count": 6,
   "metadata": {},
   "outputs": [],
   "source": [
    "\n",
    "img_bgr = cv2.imread('C:\\\\Users\\\\subroto mittra\\\\Desktop\\\\STUTI\\\\Smartwit\\\\opencv-template-matching-python-tutorial.jpg')\n",
    "img_gray = cv2.cvtColor(img_bgr,cv2.COLOR_BGR2GRAY)\n",
    "\n",
    "template = cv2.imread('C:\\\\Users\\\\subroto mittra\\\\Desktop\\\\STUTI\\\\Smartwit\\\\opencv-template-for-matching.jpg',0) \n",
    "w, h = template.shape[::-1]\n",
    "\n",
    "res = cv2.matchTemplate(img_gray, template, cv2.TM_CCOEFF_NORMED)\n",
    "threshold = 0.9\n",
    "loc = np.where(res>=threshold)\n",
    "\n",
    "for pt in zip(*loc[::-1]):\n",
    "    cv2.rectangle(img_bgr, pt, (pt[0]+w, pt[0] + h), (0,255,255), 2)\n",
    "    \n",
    "    \n",
    "cv2.imshow('detected',img_bgr)"
   ]
  },
  {
   "cell_type": "code",
   "execution_count": null,
   "metadata": {},
   "outputs": [],
   "source": []
  }
 ],
 "metadata": {
  "kernelspec": {
   "display_name": "Python 3",
   "language": "python",
   "name": "python3"
  },
  "language_info": {
   "codemirror_mode": {
    "name": "ipython",
    "version": 3
   },
   "file_extension": ".py",
   "mimetype": "text/x-python",
   "name": "python",
   "nbconvert_exporter": "python",
   "pygments_lexer": "ipython3",
   "version": "3.7.6"
  }
 },
 "nbformat": 4,
 "nbformat_minor": 2
}
